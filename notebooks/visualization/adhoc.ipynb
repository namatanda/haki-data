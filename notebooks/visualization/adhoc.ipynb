{
 "cells": [
  {
   "cell_type": "code",
   "execution_count": null,
   "metadata": {},
   "outputs": [],
   "source": [
    "import matplotlib.pyplot as plt\n",
    "import pandas as pd\n",
    "import numpy as np\n",
    "path = \"/home/fiend/Documents\""
   ]
  },
  {
   "cell_type": "code",
   "execution_count": null,
   "metadata": {},
   "outputs": [],
   "source": [
    "df = pd.read_csv(f'{path}/processed_df.csv', parse_dates=True)"
   ]
  },
  {
   "cell_type": "code",
   "execution_count": null,
   "metadata": {},
   "outputs": [],
   "source": [
    "period_start = pd.to_datetime('2023-07-01')\n",
    "period_end = pd.to_datetime('2024-06-30')\n",
    "# outcome = 'concluded'\n",
    "\n",
    "# # Convert activity_date to datetime\n",
    "df['activity_date'] = pd.to_datetime(df['activity_date'], errors='coerce')\n",
    "\n",
    "kisumu_df = df[(df['court'] =='Kisumu') &\n",
    "    (df['activity_date'] >= period_start) &\n",
    "    (df['activity_date'] <= period_end)\n",
    "]"
   ]
  },
  {
   "cell_type": "code",
   "execution_count": null,
   "metadata": {},
   "outputs": [],
   "source": [
    "judges = ['Aburili, Roselyne', 'Saida,shariff Mwanaisha']\n",
    "kisumu_df = kisumu_df[kisumu_df['judge_1'].isin(judges)].copy()"
   ]
  },
  {
   "cell_type": "code",
   "execution_count": null,
   "metadata": {},
   "outputs": [],
   "source": [
    "kisumu_df = kisumu_df.copy(deep=True)"
   ]
  },
  {
   "cell_type": "code",
   "execution_count": null,
   "metadata": {},
   "outputs": [],
   "source": [
    "kisumu_df.groupby('case_type')['concluded'].sum().reset_index(name='total').sort_values(by='total', ascending=False)"
   ]
  },
  {
   "cell_type": "code",
   "execution_count": null,
   "metadata": {},
   "outputs": [],
   "source": [
    "kisumu_df.columns"
   ]
  },
  {
   "cell_type": "code",
   "execution_count": null,
   "metadata": {},
   "outputs": [],
   "source": [
    "# determine Judicial Review cases resolved within 180 days\n",
    "kisumu_df['concluded_within_180_days'] = kisumu_df['concluded'] & (kisumu_df['age'] <= 180)\n"
   ]
  },
  {
   "cell_type": "code",
   "execution_count": null,
   "metadata": {},
   "outputs": [],
   "source": [
    "# percentage of judicial review cases resolved within 180 days\n",
    "percentage_resolved_within_180_days = (\n",
    "\tkisumu_df[(kisumu_df['case_type'] == 'Judicial Review') & (kisumu_df['concluded_within_180_days'])]['concluded'].sum() /\n",
    "\tkisumu_df[kisumu_df['case_type'] == 'Judicial Review']['concluded'].sum()\n",
    ") * 100\n"
   ]
  },
  {
   "cell_type": "code",
   "execution_count": null,
   "metadata": {},
   "outputs": [],
   "source": [
    "kisumu_df[(kisumu_df['case_type'] == 'Judicial Review') & (kisumu_df['concluded_within_180_days'])]['concluded'].sum()"
   ]
  },
  {
   "cell_type": "code",
   "execution_count": null,
   "metadata": {},
   "outputs": [],
   "source": [
    "kisumu_df[kisumu_df['case_type'] == 'Judicial Review']['concluded'].sum()"
   ]
  },
  {
   "cell_type": "code",
   "execution_count": null,
   "metadata": {},
   "outputs": [],
   "source": [
    "percentage_resolved_within_180_days"
   ]
  },
  {
   "cell_type": "code",
   "execution_count": null,
   "metadata": {},
   "outputs": [],
   "source": [
    "kisumu_df.loc[:, 'appearance_count'] = kisumu_df.groupby('case_number')['case_number'].transform('count')"
   ]
  },
  {
   "cell_type": "code",
   "execution_count": null,
   "metadata": {},
   "outputs": [],
   "source": [
    "kisumu_df['resolved'] = kisumu_df.groupby('case_number')['concluded'].transform('max')\n"
   ]
  },
  {
   "cell_type": "code",
   "execution_count": null,
   "metadata": {},
   "outputs": [],
   "source": [
    "kisumu_resolved = kisumu_df[kisumu_df['resolved'] >=1].copy()"
   ]
  },
  {
   "cell_type": "code",
   "execution_count": null,
   "metadata": {},
   "outputs": [],
   "source": [
    "kisumu_resolved.loc[:, 'ruling_delivered'] = (kisumu_resolved['outcome'] == 'Ruling Delivered- Case Closed').astype(int)"
   ]
  },
  {
   "cell_type": "code",
   "execution_count": null,
   "metadata": {},
   "outputs": [],
   "source": [
    "kisumu_resolved.loc[:, 'ruling_delivered_max'] = kisumu_resolved.groupby('case_number')['ruling_delivered'].transform('max')"
   ]
  },
  {
   "cell_type": "code",
   "execution_count": null,
   "metadata": {},
   "outputs": [],
   "source": [
    "kisumu_ruling_df = kisumu_resolved[kisumu_resolved['ruling_delivered_max'] >= 1].copy()"
   ]
  },
  {
   "cell_type": "code",
   "execution_count": null,
   "metadata": {},
   "outputs": [],
   "source": [
    "# ruling shceduled Ruling Date Given\n",
    "kisumu_ruling_df.loc[:, 'ruling_scheduled'] = (kisumu_ruling_df['outcome'] == 'Ruling Date Given').astype(int)\n",
    "kisumu_ruling_df.loc[:, 'ruling_scheduled_max'] = kisumu_ruling_df.groupby('case_number')['ruling_scheduled'].transform('max')"
   ]
  },
  {
   "cell_type": "code",
   "execution_count": null,
   "metadata": {},
   "outputs": [],
   "source": [
    "ruling_not_scheduled = kisumu_ruling_df[kisumu_ruling_df['ruling_scheduled_max'] == 0]"
   ]
  },
  {
   "cell_type": "code",
   "execution_count": null,
   "metadata": {},
   "outputs": [],
   "source": [
    "kisumu_df.query('case_number == \"Kisumu/HCCRC/22/2020\"')"
   ]
  },
  {
   "cell_type": "code",
   "execution_count": null,
   "metadata": {},
   "outputs": [],
   "source": [
    "ruling_not_scheduled"
   ]
  },
  {
   "cell_type": "code",
   "execution_count": null,
   "metadata": {},
   "outputs": [],
   "source": [
    "resolved_cases = kisumu_df.pivot_table(index='case_type', columns='productivity', values='concluded', aggfunc='sum', fill_value=0)"
   ]
  },
  {
   "cell_type": "code",
   "execution_count": null,
   "metadata": {},
   "outputs": [],
   "source": [
    "resolved_cases_not_scheduled = ruling_not_scheduled.pivot_table(index='case_type', columns='productivity', values='concluded', aggfunc='sum', fill_value=0)"
   ]
  },
  {
   "cell_type": "code",
   "execution_count": null,
   "metadata": {},
   "outputs": [],
   "source": [
    "# \n",
    "merged = pd.merge(resolved_cases, resolved_cases_not_scheduled, on='case_type', suffixes=('_resolved', '_not_scheduled'))"
   ]
  },
  {
   "cell_type": "code",
   "execution_count": null,
   "metadata": {},
   "outputs": [],
   "source": [
    "merged"
   ]
  },
  {
   "cell_type": "code",
   "execution_count": null,
   "metadata": {},
   "outputs": [],
   "source": [
    "ruling_not_scheduled.groupby('case_type')['ruling_delivered'].sum().reset_index(name='total').sort_values(by='total', ascending=False)"
   ]
  },
  {
   "cell_type": "code",
   "execution_count": null,
   "metadata": {},
   "outputs": [],
   "source": [
    "ruling_not_scheduled[(ruling_not_scheduled['appearance_count'] >= 1) & (ruling_not_scheduled['appearance_count'] <= 2)].groupby('case_type')['ruling_delivered'].sum().reset_index(name='total').sort_values(by='total', ascending=False)"
   ]
  },
  {
   "cell_type": "code",
   "execution_count": null,
   "metadata": {},
   "outputs": [],
   "source": [
    "kisumu_ruling_df.groupby('judge_1')['ruling_delivered'].sum().reset_index(name='total').sort_values(by='total', ascending=False)"
   ]
  },
  {
   "cell_type": "code",
   "execution_count": null,
   "metadata": {},
   "outputs": [],
   "source": [
    "kisumu_ruling_df.groupby('case_type')['ruling_scheduled'].sum().reset_index(name='total').sort_values(by='total', ascending=False)"
   ]
  }
 ],
 "metadata": {
  "kernelspec": {
   "display_name": "haki-data-HVHT8HQl-py3.13",
   "language": "python",
   "name": "python3"
  },
  "language_info": {
   "codemirror_mode": {
    "name": "ipython",
    "version": 3
   },
   "file_extension": ".py",
   "mimetype": "text/x-python",
   "name": "python",
   "nbconvert_exporter": "python",
   "pygments_lexer": "ipython3",
   "version": "3.13.1"
  }
 },
 "nbformat": 4,
 "nbformat_minor": 2
}
