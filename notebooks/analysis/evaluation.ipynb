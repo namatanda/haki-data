{
 "cells": [
  {
   "cell_type": "code",
   "execution_count": 1,
   "metadata": {},
   "outputs": [],
   "source": [
    "import pandas as pd\n",
    "import logging\n",
    "from typing import List\n",
    "import numpy as np\n",
    "import gc"
   ]
  },
  {
   "cell_type": "code",
   "execution_count": 11,
   "metadata": {},
   "outputs": [],
   "source": [
    "df = pd.read_stata('/home/stanoo/Projects/data/hc/hc-2021-22.dta')"
   ]
  },
  {
   "cell_type": "code",
   "execution_count": 12,
   "metadata": {},
   "outputs": [],
   "source": [
    "to_keep = ['court_name', 'date_dd', 'date_mon', 'date_yyyy', 'caseid_type', 'caseid_no',\n",
    "       'filed_dd', 'filed_mon', 'filed_yyyy', 'origcourt', 'appeal_type',\n",
    "       'appeal_no', 'appeal_yyyy', 'case_type', 'bench_1', 'bench_2',\n",
    "       'bench_3', 'bench_4', 'bench_5', 'bench_6', 'bench_7', 'comingfor',\n",
    "       'outcome', 'reason_adj', 'next_dd', 'next_mon', 'next_yyyy',\n",
    "       'fisrtparty_m', 'firstparty_f', 'firstparty_org', 'secondparty_m',\n",
    "       'secondparty_f', 'secondparty_o', 'legalrep', 'p_witness', 'd_witness',\n",
    "       'custody', 'other_details', 'resolved_cases']\n",
    "new_df = df[to_keep]"
   ]
  },
  {
   "cell_type": "code",
   "execution_count": 13,
   "metadata": {},
   "outputs": [
    {
     "data": {
      "text/plain": [
       "24240"
      ]
     },
     "execution_count": 13,
     "metadata": {},
     "output_type": "execute_result"
    }
   ],
   "source": [
    "del df \n",
    "gc.collect()"
   ]
  },
  {
   "cell_type": "code",
   "execution_count": 16,
   "metadata": {},
   "outputs": [],
   "source": [
    "years_to_keep = ['2021', '2022']\n",
    "new_df = new_df[new_df['date_yyyy'].isin(years_to_keep)]"
   ]
  },
  {
   "cell_type": "code",
   "execution_count": 20,
   "metadata": {},
   "outputs": [],
   "source": [
    "mon_to_keep = ['Jul','Aug', 'Sep', 'Oct','Nov', 'Dec']\n",
    "df_2021 = new_df[new_df.date_mon.isin(mon_to_keep)]"
   ]
  },
  {
   "cell_type": "code",
   "execution_count": null,
   "metadata": {},
   "outputs": [],
   "source": [
    "# mons = ['Jan', 'Feb', 'Mar', 'Apr', 'May', 'Jun','Jul','Aug', 'Sep', 'Oct','Nov', 'Dec']\n",
    "\n",
    "# df_2021 = new_df[new_df.date_mon.isin(mon_to_keep)]"
   ]
  },
  {
   "cell_type": "code",
   "execution_count": 26,
   "metadata": {},
   "outputs": [],
   "source": [
    "df_2022 = new_df[(new_df.date_yyyy=='2022' & ~new_df.date_mon.isin(mons))]\n",
    "df_2022 = new_df[(new_df.date_yyyy == '2022') & (~new_df.date_mon.isin(mons))]"
   ]
  },
  {
   "cell_type": "code",
   "execution_count": 29,
   "metadata": {},
   "outputs": [],
   "source": [
    "#combine 2021 and 2022\n",
    "df = pd.concat([df_2021, df_2022])"
   ]
  },
  {
   "cell_type": "code",
   "execution_count": 31,
   "metadata": {},
   "outputs": [],
   "source": [
    "df.to_csv('/home/stanoo/Projects/data/hc/hc21-22.csv')"
   ]
  },
  {
   "cell_type": "code",
   "execution_count": null,
   "metadata": {},
   "outputs": [],
   "source": [
    "df_1 = pd.read_csv('/home/stanoo/Projects/data/hc/hc-2021-23-combined.csv')\n"
   ]
  },
  {
   "cell_type": "code",
   "execution_count": 24,
   "metadata": {},
   "outputs": [],
   "source": [
    "mons = ['Jan', 'Feb', 'Mar', 'Apr', 'May', 'Jun','Jul','Aug', 'Sep', 'Oct','Nov', 'Dec']\n",
    "df_1 = df_1[df_1.date_mon.isin(mons)]"
   ]
  },
  {
   "cell_type": "code",
   "execution_count": 7,
   "metadata": {},
   "outputs": [],
   "source": [
    "df.to_csv('/home/stanoo/Projects/data/hc/2019-22.csv')"
   ]
  },
  {
   "cell_type": "markdown",
   "metadata": {},
   "source": [
    "### Indicators \n",
    "#### 1 Appeals Judgements\n",
    "#### 2 Certificates of urgency\n",
    "#### 3 Injunctions\n",
    "#### 4 Remand days\n",
    "#### 5 First hearing\n",
    "#### 6 Taxation - Advocate-client Bc \n"
   ]
  },
  {
   "cell_type": "code",
   "execution_count": null,
   "metadata": {},
   "outputs": [],
   "source": [
    "file_path = '/home/stanoo/Projects/data/tribunal'\n",
    "df = pd.read_csv(f'{file_path}/tribunals_processed.csv')"
   ]
  },
  {
   "cell_type": "code",
   "execution_count": null,
   "metadata": {},
   "outputs": [],
   "source": [
    "cert_df = df['outcome'].apply(lambda x: 1 if x == 'Certified Urgent' else 0)\n",
    "cert_df.loc[:, 'certified'] = cert_df.groupby('case_number')['urgent'].transform('max')\n",
    "urgent_cases = cert_df[cert_df['certified'] == 1]\n"
   ]
  },
  {
   "cell_type": "code",
   "execution_count": 18,
   "metadata": {},
   "outputs": [],
   "source": [
    "# hc_stations = ['Marsabit', 'Embu', 'Chuka', 'Muranga']\n",
    "# sub_df = df[df['court'].isin(hc_stations)]"
   ]
  },
  {
   "cell_type": "markdown",
   "metadata": {},
   "source": [
    "## not certified application/injuctions"
   ]
  },
  {
   "cell_type": "code",
   "execution_count": 31,
   "metadata": {},
   "outputs": [],
   "source": [
    "condition = (\n",
    "    sub_df['comingfor'].isin(['Notice of Motion', 'Hearing of Applications', 'Hearing- Application', 'Ruling on Applications']) |\n",
    "    sub_df['outcome'].isin(['Not Certified Urgent', 'Not  Certified Urgent', 'Application Heard'])\n",
    ")\n",
    "sub_df = sub_df.copy()\n",
    "\n",
    "sub_df['other_applications'] = np.where(condition, 1, 0)\n",
    "sub_df['application'] = sub_df.groupby('case_number')['other_applications'].transform('max')\n",
    "applic_sub_df = sub_df[sub_df['application'] == 1]\n",
    "applic_sub_df.to_csv(f'{file_path}/hc_application_data.csv', index=False)\n",
    "\n",
    "applic_sub_df.groupby(['court', 'case_number'])['other_applications'].sum().sort_values(ascending=False).reset_index(name='count').sort_values(by=['court', 'count'], ascending=[True, False]).reset_index(drop=True).to_csv(f'{file_path}/hc_application_cases.csv', index=False)"
   ]
  },
  {
   "cell_type": "markdown",
   "metadata": {},
   "source": [
    "## Certified Urgent applications"
   ]
  },
  {
   "cell_type": "code",
   "execution_count": null,
   "metadata": {},
   "outputs": [],
   "source": [
    "cert_df = sub_df[sub_df['application'] == 0]\n",
    "cert_df.loc[:, 'urgent'] = cert_df['outcome'].apply(lambda x: 1 if x == 'Certified Urgent' else 0)\n",
    "cert_df.loc[:, 'certified'] = cert_df.groupby('case_number')['urgent'].transform('max')\n",
    "urgent_cases = cert_df[cert_df['certified'] == 1]\n",
    "urgent_cases.groupby(['court','case_number'])['certified'].count().reset_index(name='count').to_csv(f'{file_path}/hc_urgent_cases.csv', index=False)\n",
    "urgent_cases.to_csv(f'{file_path}/hc_certificate_data.csv', index=False)"
   ]
  },
  {
   "cell_type": "markdown",
   "metadata": {},
   "source": [
    "## Remand Days"
   ]
  },
  {
   "cell_type": "code",
   "execution_count": 20,
   "metadata": {},
   "outputs": [],
   "source": [
    "custody_df = sub_df[(sub_df['custody'] == 1) & (sub_df['broad_case_type'] == 'Murder')]"
   ]
  },
  {
   "cell_type": "code",
   "execution_count": null,
   "metadata": {},
   "outputs": [],
   "source": [
    "custody_df = sub_df[(sub_df['custody'] == 1) & (sub_df['broad_case_type'] == 'Murder')]\n",
    "custody_df.loc[:, 'reg'] = custody_df.groupby('case_number')['registered'].transform('max')\n",
    "custody_df = custody_df.copy()\n",
    "custody_df = custody_df[custody_df['reg'] == 1]"
   ]
  },
  {
   "cell_type": "code",
   "execution_count": 24,
   "metadata": {},
   "outputs": [],
   "source": [
    "custody_df.loc[:, 'reg'] = custody_df.groupby('case_number')['registered'].transform('max')"
   ]
  },
  {
   "cell_type": "code",
   "execution_count": 27,
   "metadata": {},
   "outputs": [],
   "source": [
    "custody_df = custody_df[custody_df['resolved'] != 1]"
   ]
  },
  {
   "cell_type": "code",
   "execution_count": 29,
   "metadata": {},
   "outputs": [],
   "source": [
    "custody_df.groupby(['court','case_number'])['reg'].count().sort_values(ascending=False).reset_index(name='count').to_csv(f'{file_path}/hc_custody_cases.csv', index=False)\n",
    "custody_df.to_csv(f'{file_path}/hc_custody_data.csv', index=False)"
   ]
  },
  {
   "cell_type": "code",
   "execution_count": null,
   "metadata": {},
   "outputs": [],
   "source": [
    "\n",
    "custody_df['resolved'] = custody_df.groupby('case_number')['concluded'].transform('max')\n",
    "custody_df = custody_df[custody_df['resolved'] != 1]\n",
    "custody_df.groupby(['court', 'case_type'])['reg'].count().reset_index(name='count')\n",
    "custody_df.groupby(['court','case_number'])['reg'].count().sort_values(ascending=False).reset_index(name='count').to_csv(f'{file_path}/hc_custody_cases.csv', index=False)\n",
    "custody_df.to_csv(f'{file_path}/hc_custody_data.csv', index=False)"
   ]
  },
  {
   "cell_type": "code",
   "execution_count": 13,
   "metadata": {},
   "outputs": [
    {
     "data": {
      "text/plain": [
       "Series([], Name: reg, dtype: int64)"
      ]
     },
     "execution_count": 13,
     "metadata": {},
     "output_type": "execute_result"
    }
   ],
   "source": [
    "custody_df.groupby(['court','case_number'])['reg'].count().sort_values(ascending=False)"
   ]
  },
  {
   "cell_type": "markdown",
   "metadata": {},
   "source": [
    "## Appeals"
   ]
  },
  {
   "cell_type": "code",
   "execution_count": 50,
   "metadata": {},
   "outputs": [],
   "source": [
    "# not certified application/injuctions\n",
    "jd_condition = (\n",
    "    sub_df['comingfor'].isin(['Judgment', 'Ruling']) &\n",
    "    sub_df['outcome'].isin([\"Grant Revoked\", \"Judgment Delivered\", \n",
    "                                   \"Judgment Delivered- Acquittal\", \"Judgment Delivered- Case Closed\", \n",
    "                                   \"Judgment Delivered- Convicted\"])\n",
    ")\n",
    "sub_df = sub_df.copy()\n",
    "\n",
    "sub_df['delivered'] = np.where(jd_condition, 1, 0)\n",
    "\n",
    "appeals = sub_df[sub_df['broad_case_type'].isin(['Civil Appeal', 'Criminal Appeal'])]\n",
    "appeals = appeals.copy()\n",
    "appeals = appeals[appeals['delivered'] == 1]\n",
    "appeals['judgement'] = appeals.groupby('case_number')['delivered'].transform('max')\n",
    "appeals.to_csv(f'{file_path}/hc_appeal_data.csv', index=False)\n",
    "(appeals.groupby(['court', 'case_number'])['judgement'].sum()\n",
    ".sort_values(ascending=False).reset_index(name='count')\n",
    ".sort_values(by=['court', 'count'], ascending=[True, False]).reset_index(drop=True)\n",
    ".to_csv(f'{file_path}/hc_appeal_cases.csv', index=False))"
   ]
  },
  {
   "cell_type": "markdown",
   "metadata": {},
   "source": [
    "## Taxations"
   ]
  },
  {
   "cell_type": "code",
   "execution_count": 53,
   "metadata": {},
   "outputs": [],
   "source": [
    "taxation_condition  = sub_df['comingfor'].isin(['Taxation and Issuance of Certificates',\n",
    "'Signing of Taxation''Notice of Taxation',\n",
    "'Filling Bill of Cost',\n",
    "'Mention of Bill of Cost',\n",
    "'Taxation''Assessment of costs/Taxation',\n",
    "'Assessment of costs']) | sub_df['outcome'].isin(['Taxation Date Set'])\n",
    "\n",
    "sub_df = sub_df.copy()\n",
    "\n",
    "sub_df['taxation'] = np.where(taxation_condition, 1, 0)\n",
    "sub_df.loc[:, 'boc'] = sub_df.groupby('case_number')['taxation'].transform('max')\n",
    "sub_df['resolved'] = sub_df.groupby('case_number')['concluded'].transform('max')\n",
    "taxation_df = sub_df[(sub_df['boc'] == 1) & (sub_df['broad_case_type'] =='Civil Application')]\n",
    "resolved_boc = taxation_df[taxation_df['resolved'] == 1]\n",
    "resolved_boc.to_csv(f'{file_path}/hc_taxation_data.csv', index=False)\n",
    "resolved_boc.groupby(['court', 'case_number'])['taxation'].sum().reset_index(name='count').to_csv(f'{file_path}/hc_taxation_cases.csv', index=False)"
   ]
  },
  {
   "cell_type": "code",
   "execution_count": null,
   "metadata": {},
   "outputs": [],
   "source": [
    "resolved_boc.groupby(['court', 'case_type'])['taxation'].sum().reset_index(name='count')"
   ]
  },
  {
   "cell_type": "code",
   "execution_count": null,
   "metadata": {},
   "outputs": [],
   "source": [
    "'Record Of Appeal Filed'"
   ]
  },
  {
   "cell_type": "markdown",
   "metadata": {},
   "source": [
    "## First scheduled"
   ]
  },
  {
   "cell_type": "code",
   "execution_count": null,
   "metadata": {},
   "outputs": [],
   "source": [
    "hearing_set =  ['Hearing Date Set (In Court)', \n",
    "'Hearing Date Set (At The Registry)', \n",
    "'Hearing Date Set',\n",
    "'Hearing Date Given']\n",
    "hearing_date = ['Hearing',\n",
    "'Hearing - Appeals',\n",
    "'Hearing- Main Suit',\n",
    "'Fresh Hearing']"
   ]
  },
  {
   "cell_type": "code",
   "execution_count": null,
   "metadata": {},
   "outputs": [],
   "source": [
    "hearing_condition = sub_df['comingfor'].isin(hearing_set) | sub_df['outcome'].isin(hearing_date)\n",
    "sub_df = sub_df.copy()\n",
    "sub_df['hearing'] = np.where(hearing_condition, 1, 0)"
   ]
  },
  {
   "cell_type": "code",
   "execution_count": 83,
   "metadata": {},
   "outputs": [],
   "source": [
    "pd.set_option('display.max_rows', None)\n",
    "# pd.set_option('display.max_columns', None)"
   ]
  },
  {
   "cell_type": "code",
   "execution_count": null,
   "metadata": {},
   "outputs": [],
   "source": [
    "sub_df[sub_df['outcome'] == 'Directions Given'].groupby('comingfor')['comingfor'].count().sort_values(ascending=False).reset_index(name='count')"
   ]
  },
  {
   "cell_type": "code",
   "execution_count": null,
   "metadata": {},
   "outputs": [],
   "source": [
    "sub_df.groupby('outcome')['outcome'].count().sort_values(ascending=False).reset_index(name='count')"
   ]
  },
  {
   "cell_type": "code",
   "execution_count": null,
   "metadata": {},
   "outputs": [],
   "source": [
    "sub_df.loc[:, 'hearing'] = sub_df.groupby('case_number')['hearing'].transform('max')\n",
    "sub_df['resolved'] = sub_df.groupby('case_number')['concluded'].transform('max')"
   ]
  },
  {
   "cell_type": "code",
   "execution_count": null,
   "metadata": {},
   "outputs": [],
   "source": [
    "hearing_df = sub_df[(sub_df['hearing'] == 1) & (sub_df['broad_case_type'] =='Civil Application')]\n",
    "resolved_hearing = hearing_df[hearing_df['resolved'] == 1]\n",
    "resolved_hearing.to_csv(f'{file_path}/hc_hearing_data.csv', index=False)\n",
    "resolved_hearing.groupby(['court', 'case_number'])['hearing'].sum().reset_index(name='count').to_csv(f'{file_path}/hc_hearing_cases.csv', index=False)"
   ]
  },
  {
   "cell_type": "code",
   "execution_count": null,
   "metadata": {},
   "outputs": [],
   "source": []
  },
  {
   "cell_type": "code",
   "execution_count": 10,
   "metadata": {},
   "outputs": [],
   "source": [
    "resolved = df[df['concluded']==1]"
   ]
  },
  {
   "cell_type": "code",
   "execution_count": 12,
   "metadata": {},
   "outputs": [],
   "source": [
    "# drop dupplicates on resolved by case_number \n",
    "resolved = resolved.drop_duplicates(subset=['case_number'], keep=False)"
   ]
  },
  {
   "cell_type": "code",
   "execution_count": 13,
   "metadata": {},
   "outputs": [],
   "source": [
    "tlab= resolved[resolved['court'] =='Transport Licensing Appeals Board']"
   ]
  },
  {
   "cell_type": "code",
   "execution_count": null,
   "metadata": {},
   "outputs": [],
   "source": [
    "# rate of resolution\n",
    "under_180 = tlab['age'] < 180"
   ]
  },
  {
   "cell_type": "code",
   "execution_count": null,
   "metadata": {},
   "outputs": [],
   "source": [
    "tlab.to_csv(f'{file_path}/')"
   ]
  }
 ],
 "metadata": {
  "kernelspec": {
   "display_name": ".venv",
   "language": "python",
   "name": "python3"
  },
  "language_info": {
   "codemirror_mode": {
    "name": "ipython",
    "version": 3
   },
   "file_extension": ".py",
   "mimetype": "text/x-python",
   "name": "python",
   "nbconvert_exporter": "python",
   "pygments_lexer": "ipython3",
   "version": "3.13.1"
  }
 },
 "nbformat": 4,
 "nbformat_minor": 2
}
