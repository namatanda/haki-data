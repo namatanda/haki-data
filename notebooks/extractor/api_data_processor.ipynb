{
 "cells": [
  {
   "cell_type": "code",
   "execution_count": 39,
   "metadata": {},
   "outputs": [],
   "source": [
    "import pandas as pd\n",
    "import os\n",
    "from multiprocessing import Pool\n",
    "import logging\n",
    "from typing import List, Optional"
   ]
  },
  {
   "cell_type": "code",
   "execution_count": 40,
   "metadata": {},
   "outputs": [],
   "source": [
    "logging.basicConfig(level=logging.INFO, format='%(asctime)s - %(levelname)s - %(message)s')\n",
    "logger = logging.getLogger(__name__)\n",
    "pd.set_option('display.max_rows', None)"
   ]
  },
  {
   "cell_type": "code",
   "execution_count": 41,
   "metadata": {},
   "outputs": [],
   "source": [
    "hc_file_path = '/home/stanoo/dcrt/data/API/CoA/Q1-2024-25/' \n",
    "coa_file_path = '/home/stanoo/dcrt/data/API/CoA/Q1-2024-25/'"
   ]
  },
  {
   "cell_type": "code",
   "execution_count": 42,
   "metadata": {},
   "outputs": [],
   "source": [
    "column_names = [\n",
    "    \"line\", \"date_dd\", \"date_mon\", \"date_yyyy\", \"caseid_type\", \"caseid_no\", \"filed_dd\",\n",
    "    \"filed_mon\", \"filed_yyyy\", \"original_court\", \"original_code\", \"original_number\",\n",
    "    \"original_year\", \"case_type\", \"judge_1\", \"judge_2\", \"judge_3\", \"judge_4\", \"judge_5\",\n",
    "    \"judge_6\", \"judge_7\", \"comingfor\", \"outcome\", \"reason_adj\", \"next_dd\", \"next_mon\",\n",
    "    \"next_yyyy\", \"male_applicant\", \"female_applicant\", \"organization_applicant\",\n",
    "    \"male_defendant\", \"female_defendant\", \"organization_defendant\", \"legalrep\",\n",
    "    \"applicant_witness\", \"defendant_witness\", \"custody\", \"other_details\"\n",
    "]"
   ]
  },
  {
   "cell_type": "code",
   "execution_count": 43,
   "metadata": {},
   "outputs": [],
   "source": [
    "def read_excel_file(file_path: str, column_names: List[str]) -> Optional[pd.DataFrame]:\n",
    "    \"\"\"\n",
    "    Read an Excel file and return a DataFrame with specified column names and an added court name column.\n",
    "    \n",
    "    Args:\n",
    "        file_path (str): Path to the Excel file.\n",
    "        column_names (List[str]): List of column names to use for the DataFrame.\n",
    "        \n",
    "    Returns:\n",
    "        Optional[pd.DataFrame]: DataFrame with the specified columns and court name, or None if an error occurs.\n",
    "    \"\"\"\n",
    "    try:\n",
    "        file_name = os.path.basename(file_path)\n",
    "        court_name = file_name.split(\"-\")[0]\n",
    "        df = pd.read_excel(file_path, header=4, names=column_names)\n",
    "        df = df.assign(court_name=court_name).drop(df.columns[0], axis=1)\n",
    "        df = df[[df.columns[-1]] + list(df.columns[:-1])]\n",
    "        return df\n",
    "    except Exception as e:\n",
    "        logging.error(f\"Error reading file {file_path}: {e}\")\n",
    "        return None\n"
   ]
  },
  {
   "cell_type": "code",
   "execution_count": 44,
   "metadata": {},
   "outputs": [],
   "source": [
    "def read_excel_files(folder_path, column_names):\n",
    "\n",
    "    file_paths = [os.path.join(folder_path, filename) for filename in os.listdir(folder_path)\n",
    "                  if filename.endswith(\".xls\") or filename.endswith(\".xlsx\")]\n",
    "\n",
    "    if not file_paths:\n",
    "        raise ValueError(\"No Excel files found in the specified folder.\")\n",
    "\n",
    "    pool = Pool()\n",
    "    data_frames = pool.starmap(read_excel_file, [(file_path, column_names) for file_path in file_paths])\n",
    "    pool.close()\n",
    "    pool.join()\n",
    "\n",
    "    data_frames = [df for df in data_frames if df is not None and not df.empty]\n",
    "    \n",
    "    if not data_frames:\n",
    "        raise ValueError(\"Unable to read any Excel files.\")\n",
    "    \n",
    "    combined_df = pd.concat(data_frames, ignore_index=True)\n",
    "    return combined_df"
   ]
  },
  {
   "cell_type": "code",
   "execution_count": 45,
   "metadata": {},
   "outputs": [],
   "source": [
    "combined_df = read_excel_files(coa_file_path, column_names)"
   ]
  },
  {
   "cell_type": "code",
   "execution_count": 46,
   "metadata": {},
   "outputs": [],
   "source": [
    "# Fill NaN values in float columns with 0 and convert them to int\n",
    "float_columns = combined_df.select_dtypes(include=['float64']).columns\n",
    "combined_df[float_columns] = combined_df[float_columns].fillna(0).astype(int)"
   ]
  },
  {
   "cell_type": "code",
   "execution_count": 32,
   "metadata": {},
   "outputs": [],
   "source": [
    "# Create a new column with mapped names\n",
    "name_map = {'_High Court Div': '', '_High Court Civil': '', '_High Court Criminal': ''}\n",
    "\n",
    "def map_names(name):\n",
    "    for key, value in name_map.items():\n",
    "        name = name.replace(key, value)\n",
    "    return name.split()[0] "
   ]
  },
  {
   "cell_type": "code",
   "execution_count": 33,
   "metadata": {},
   "outputs": [],
   "source": [
    "combined_df['court'] = combined_df['court_name'].apply(map_names)"
   ]
  },
  {
   "cell_type": "code",
   "execution_count": 34,
   "metadata": {},
   "outputs": [],
   "source": [
    "combined_df.loc[combined_df['court'] == 'Milimani', 'court'] = combined_df['court_name']"
   ]
  },
  {
   "cell_type": "code",
   "execution_count": 35,
   "metadata": {},
   "outputs": [],
   "source": [
    "combined_df['court'] = combined_df['court'].str.replace(\"High Court_High Court\", \"\", case=False, regex=False)\n",
    "combined_df['court'] = combined_df['court'].str.replace(r'\\s+', ' ', regex=True)\n",
    "# move court name to the first column\n",
    "combined_df.drop(columns=['court_name'], inplace=True)\n",
    "combined_df = combined_df[[combined_df.columns[-1]] + list(combined_df.columns[:-1])]\n"
   ]
  },
  {
   "cell_type": "code",
   "execution_count": 36,
   "metadata": {},
   "outputs": [],
   "source": [
    "combined_df = combined_df[~combined_df['caseid_type'].str.contains(\"MED\")]"
   ]
  },
  {
   "cell_type": "code",
   "execution_count": 47,
   "metadata": {},
   "outputs": [],
   "source": [
    "# save the dataframe to a new csv file\n",
    "combined_df.to_csv(f'{coa_file_path}/coa_q1_data.csv', index=False)"
   ]
  },
  {
   "cell_type": "code",
   "execution_count": 49,
   "metadata": {},
   "outputs": [
    {
     "data": {
      "text/html": [
       "<div>\n",
       "<style scoped>\n",
       "    .dataframe tbody tr th:only-of-type {\n",
       "        vertical-align: middle;\n",
       "    }\n",
       "\n",
       "    .dataframe tbody tr th {\n",
       "        vertical-align: top;\n",
       "    }\n",
       "\n",
       "    .dataframe thead th {\n",
       "        text-align: right;\n",
       "    }\n",
       "</style>\n",
       "<table border=\"1\" class=\"dataframe\">\n",
       "  <thead>\n",
       "    <tr style=\"text-align: right;\">\n",
       "      <th></th>\n",
       "      <th>court_name</th>\n",
       "      <th>count</th>\n",
       "    </tr>\n",
       "  </thead>\n",
       "  <tbody>\n",
       "    <tr>\n",
       "      <th>0</th>\n",
       "      <td>Eldoret Court of Appeal_Court of Appeal</td>\n",
       "      <td>647</td>\n",
       "    </tr>\n",
       "    <tr>\n",
       "      <th>1</th>\n",
       "      <td>Kisumu Court of Appeal_Court of Appeal</td>\n",
       "      <td>3432</td>\n",
       "    </tr>\n",
       "    <tr>\n",
       "      <th>2</th>\n",
       "      <td>Malindi Court of Appeal_Court of Appeal</td>\n",
       "      <td>913</td>\n",
       "    </tr>\n",
       "    <tr>\n",
       "      <th>3</th>\n",
       "      <td>Mombasa Court of Appeal_Court of Appeal</td>\n",
       "      <td>2262</td>\n",
       "    </tr>\n",
       "    <tr>\n",
       "      <th>4</th>\n",
       "      <td>Nairobi Court of Appeal_Civil Division</td>\n",
       "      <td>7095</td>\n",
       "    </tr>\n",
       "    <tr>\n",
       "      <th>5</th>\n",
       "      <td>Nairobi Court of Appeal_Criminal  Division</td>\n",
       "      <td>766</td>\n",
       "    </tr>\n",
       "    <tr>\n",
       "      <th>6</th>\n",
       "      <td>Nakuru Court of Appeal_Court of Appeal</td>\n",
       "      <td>2251</td>\n",
       "    </tr>\n",
       "    <tr>\n",
       "      <th>7</th>\n",
       "      <td>Nyeri Court of Appeal_Court of Appeal</td>\n",
       "      <td>2941</td>\n",
       "    </tr>\n",
       "  </tbody>\n",
       "</table>\n",
       "</div>"
      ],
      "text/plain": [
       "                                   court_name  count\n",
       "0     Eldoret Court of Appeal_Court of Appeal    647\n",
       "1      Kisumu Court of Appeal_Court of Appeal   3432\n",
       "2     Malindi Court of Appeal_Court of Appeal    913\n",
       "3     Mombasa Court of Appeal_Court of Appeal   2262\n",
       "4      Nairobi Court of Appeal_Civil Division   7095\n",
       "5  Nairobi Court of Appeal_Criminal  Division    766\n",
       "6      Nakuru Court of Appeal_Court of Appeal   2251\n",
       "7       Nyeri Court of Appeal_Court of Appeal   2941"
      ]
     },
     "execution_count": 49,
     "metadata": {},
     "output_type": "execute_result"
    }
   ],
   "source": [
    "combined_df.groupby('court_name').size().reset_index(name='count')"
   ]
  }
 ],
 "metadata": {
  "kernelspec": {
   "display_name": ".venv",
   "language": "python",
   "name": "python3"
  },
  "language_info": {
   "codemirror_mode": {
    "name": "ipython",
    "version": 3
   },
   "file_extension": ".py",
   "mimetype": "text/x-python",
   "name": "python",
   "nbconvert_exporter": "python",
   "pygments_lexer": "ipython3",
   "version": "3.12.7"
  }
 },
 "nbformat": 4,
 "nbformat_minor": 2
}
