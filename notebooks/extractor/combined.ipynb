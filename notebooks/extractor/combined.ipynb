{
 "cells": [
  {
   "cell_type": "code",
   "execution_count": 16,
   "metadata": {},
   "outputs": [],
   "source": [
    "import os\n",
    "import pandas as pd\n",
    "import logging\n",
    "from multiprocessing import Pool\n",
    "from typing import List, Optional, Dict\n",
    "from functools import partial"
   ]
  },
  {
   "cell_type": "code",
   "execution_count": 17,
   "metadata": {},
   "outputs": [],
   "source": [
    "# Set up logging (optional for notebook)\n",
    "logging.basicConfig(level=logging.INFO, format='%(asctime)s - %(levelname)s - %(message)s')\n",
    "logger = logging.getLogger(__name__)"
   ]
  },
  {
   "cell_type": "code",
   "execution_count": 18,
   "metadata": {},
   "outputs": [],
   "source": [
    "# Function to generate file paths\n",
    "def generate_file_paths(root_folder: str, start_year: Optional[int] = None, end_year: Optional[int] = None, recursive: bool = True) -> List[str]:\n",
    "    logging.info(f\"Generating file paths from {root_folder}, recursive={recursive}\")\n",
    "    file_paths = []\n",
    "    \n",
    "    if recursive:\n",
    "        if start_year is None or end_year is None:\n",
    "            raise ValueError(\"start_year and end_year must be provided when recursive is True.\")\n",
    "        \n",
    "        for root, _, files in os.walk(root_folder):\n",
    "            for file in files:\n",
    "                if file.endswith((\".xlsx\", \".xls\")):\n",
    "                    file_path = os.path.join(root, file)\n",
    "                    try:\n",
    "                        year = int(os.path.basename(os.path.dirname(root)))\n",
    "                        if start_year <= year <= end_year:\n",
    "                            file_paths.append(file_path)\n",
    "                    except ValueError as ve:\n",
    "                        logging.error(f\"Error processing file path {file_path}: {ve}\")\n",
    "    else:\n",
    "        for file in os.listdir(root_folder):\n",
    "            if file.endswith((\".xlsx\", \".xls\")):\n",
    "                file_path = os.path.join(root_folder, file)\n",
    "                file_paths.append(file_path)\n",
    "    \n",
    "    logging.info(f\"Generated {len(file_paths)} file paths\")\n",
    "    return file_paths"
   ]
  },
  {
   "cell_type": "code",
   "execution_count": 19,
   "metadata": {},
   "outputs": [],
   "source": [
    "# # Function to read Excel files\n",
    "# def read_excel_file(file_path: str, column_names: List[str]) -> Optional[pd.DataFrame]:\n",
    "#     try:\n",
    "#         file_name = os.path.basename(file_path)\n",
    "#         court_name = file_name.split(\"-\")[0]  # Assuming court name is part of the file name\n",
    "#         df = pd.read_excel(file_path, header=4, names=column_names)\n",
    "#         df = df.assign(court_name=court_name)\n",
    "#         return df\n",
    "#     except Exception as e:\n",
    "#         logger.error(f\"Error reading file {file_path}: {e}\")\n",
    "#         return None\n",
    "\n"
   ]
  },
  {
   "cell_type": "code",
   "execution_count": 20,
   "metadata": {},
   "outputs": [],
   "source": [
    "# Function to read Excel files\n",
    "def read_excel_file(file_path: str, column_names: List[str]) -> Optional[pd.DataFrame]:\n",
    "    try:\n",
    "        file_name = os.path.basename(file_path)\n",
    "        court_name = file_name.split(\"-\")[0]  # Assuming court name is part of the file name\n",
    "        df = pd.read_excel(file_path, header=4, names=column_names)\n",
    "        df = df.assign(court_name=court_name)\n",
    "        return df\n",
    "    except Exception as e:\n",
    "        logger.error(f\"Error reading file {file_path}: {e}\")\n",
    "        return None"
   ]
  },
  {
   "cell_type": "code",
   "execution_count": 21,
   "metadata": {},
   "outputs": [],
   "source": [
    "# Function to process the files\n",
    "def process_files(file_paths: List[str], column_names: List[str]) -> pd.DataFrame:\n",
    "    logging.info(f\"Processing {len(file_paths)} files\")\n",
    "    \n",
    "    with Pool() as pool:\n",
    "        read_func = partial(read_excel_file, column_names=column_names)\n",
    "        data_frames = pool.map(read_func, file_paths)\n",
    "\n",
    "    data_frames = [df for df in data_frames if df is not None and not df.empty]\n",
    "    \n",
    "    if not data_frames:\n",
    "        raise ValueError(\"No valid Excel files found or processed.\")\n",
    "\n",
    "    return pd.concat(data_frames, ignore_index=True)\n"
   ]
  },
  {
   "cell_type": "code",
   "execution_count": 22,
   "metadata": {},
   "outputs": [],
   "source": [
    "# Function to process DataFrame\n",
    "def process_dataframe(df: pd.DataFrame, name_map: Optional[Dict[str, str]] = None, court_prefix_to_remove: Optional[str] = None) -> pd.DataFrame:\n",
    "    float_columns = df.select_dtypes(include=['float64']).columns\n",
    "    df[float_columns] = df[float_columns].fillna(0).astype(int)\n",
    "\n",
    "    if name_map:\n",
    "        def map_names(name: str) -> str:\n",
    "            for key, value in name_map.items():\n",
    "                name = name.replace(key, value)\n",
    "            return name.split()[0]\n",
    "\n",
    "        df['court'] = df['court_name'].apply(map_names)\n",
    "        \n",
    "        if court_prefix_to_remove:\n",
    "            df['court'] = df['court'].str.replace(court_prefix_to_remove, \"\", case=False, regex=False)\n",
    "        \n",
    "        df['court'] = df['court'].str.replace(r'\\s+', ' ', regex=True)\n",
    "        df = df[['court'] + [col for col in df.columns if col != 'court' and col != 'court_name']]\n",
    "    else:\n",
    "        df = df.rename(columns={'court_name': 'court'})\n",
    "        \n",
    "        if court_prefix_to_remove:\n",
    "            df['court'] = df['court'].str.replace(court_prefix_to_remove, \"\", case=False, regex=False)\n",
    "        \n",
    "        df = df[['court'] + [col for col in df.columns if col != 'court']]\n",
    "\n",
    "    return df"
   ]
  },
  {
   "cell_type": "code",
   "execution_count": 23,
   "metadata": {},
   "outputs": [],
   "source": [
    "# Function to save to CSV\n",
    "def save_to_csv(data_frame: pd.DataFrame, output_file: str):\n",
    "    try:\n",
    "        data_frame.to_csv(output_file, index=False)\n",
    "        logging.info(f\"Data saved to {output_file}\")\n",
    "    except Exception as e:\n",
    "        logging.error(f\"Error saving data to CSV: {e}\")"
   ]
  },
  {
   "cell_type": "code",
   "execution_count": 24,
   "metadata": {},
   "outputs": [],
   "source": [
    "# Example column names used for the Excel files\n",
    "column_names = [\n",
    "    \"line\", \"date_dd\", \"date_mon\", \"date_yyyy\", \"caseid_type\", \"caseid_no\", \"filed_dd\",\n",
    "    \"filed_mon\", \"filed_yyyy\", \"original_court\", \"original_code\", \"original_number\",\n",
    "    \"original_year\", \"case_type\", \"judge_1\", \"judge_2\", \"judge_3\", \"judge_4\", \"judge_5\",\n",
    "    \"judge_6\", \"judge_7\", \"comingfor\", \"outcome\", \"reason_adj\", \"next_dd\", \"next_mon\",\n",
    "    \"next_yyyy\", \"male_applicant\", \"female_applicant\", \"organization_applicant\",\n",
    "    \"male_defendant\", \"female_defendant\", \"organization_defendant\", \"legalrep\",\n",
    "    \"applicant_witness\", \"defendant_witness\", \"custody\", \"other_details\"\n",
    "]"
   ]
  },
  {
   "cell_type": "code",
   "execution_count": 25,
   "metadata": {},
   "outputs": [],
   "source": [
    "# Test the script in the notebook (variables defined manually)\n",
    "dcrt_folder = '/home/stanoo/dcrt/data/INPUT'\n",
    "api_folder = '/home/stanoo/dcrt/data/HC/HcNew'\n",
    "# Define if using dcrt-template/non-api-data\n",
    "#start_year = 2020\n",
    "# Define if using dcrt-template/non-api-data\n",
    "#end_year = 2021\n",
    "# Set to False for non-api-data mode\n",
    "recurse = True"
   ]
  },
  {
   "cell_type": "code",
   "execution_count": 26,
   "metadata": {},
   "outputs": [],
   "source": [
    "# Run the file generation, processing, and saving steps\n",
    "output_file = f'dcrt_combined_data.csv'"
   ]
  },
  {
   "cell_type": "code",
   "execution_count": 27,
   "metadata": {},
   "outputs": [
    {
     "name": "stderr",
     "output_type": "stream",
     "text": [
      "2024-10-09 16:18:52,239 - INFO - Generating file paths from /home/stanoo/dcrt/data/INPUT, recursive=True\n",
      "2024-10-09 16:18:52,240 - ERROR - Error processing file path /home/stanoo/dcrt/data/INPUT/CODES/DCRT COURT_CODES.xlsx: invalid literal for int() with base 10: 'INPUT'\n",
      "2024-10-09 16:18:52,265 - INFO - Generated 782 file paths\n",
      "2024-10-09 16:18:52,266 - INFO - Processing 782 files\n",
      "2024-10-09 16:18:53,473 - ERROR - Error reading file /home/stanoo/dcrt/data/INPUT/TEMPLATE 3/Milimani Family Division/2020/04/473011.xlsx: Number of passed names did not match number of header fields in the file (sheet: 0)\n",
      "2024-10-09 16:19:12,807 - ERROR - Error reading file /home/stanoo/dcrt/data/INPUT/TEMPLATE 3/Machakos High Court/2020/02/~$163013.xlsx: Excel file format cannot be determined, you must specify an engine manually.\n",
      "2024-10-09 16:19:22,465 - ERROR - Error reading file /home/stanoo/dcrt/data/INPUT/TEMPLATE 3/Malindi High Court/2020/03/~$33020.xlsx: Excel file format cannot be determined, you must specify an engine manually.\n",
      "2024-10-09 16:19:48,817 - INFO - Data saved to dcrt_combined_data.csv\n",
      "2024-10-09 16:19:48,817 - INFO - Data processing and saving completed successfully.\n"
     ]
    }
   ],
   "source": [
    "\n",
    "try:\n",
    "    file_paths = generate_file_paths(dcrt_folder, 2020, 2021, recursive=recurse)\n",
    "    combined_df = process_files(file_paths, column_names)\n",
    "    \n",
    "    # Process the DataFrame (modify name_map and court_prefix_to_remove as needed)\n",
    "    name_map = {'_High Court Div': '', '_High Court Civil': '', '_High Court Criminal': ''}\n",
    "    court_prefix_to_remove = \"High Court_High Court\"\n",
    "    \n",
    "    processed_df = process_dataframe(combined_df, name_map, court_prefix_to_remove)\n",
    "    save_to_csv(processed_df, output_file)\n",
    "    logging.info(\"Data processing and saving completed successfully.\")\n",
    "except Exception as e:\n",
    "    logger.error(f\"An error occurred during execution: {e}\")"
   ]
  },
  {
   "cell_type": "code",
   "execution_count": 28,
   "metadata": {},
   "outputs": [
    {
     "data": {
      "text/plain": [
       "court\n",
       "473029.xlsx                43525\n",
       "473011.xlsx                28017\n",
       "473019.xlsx                21550\n",
       "123014.xlsx                17678\n",
       "323027.xlsx                16939\n",
       "273016.xlsx                14018\n",
       "13021.xlsx                 12916\n",
       "373003.xlsx                12815\n",
       "163013.xlsx                12219\n",
       "223005.xlsx                11743\n",
       "193008.xlsx                10348\n",
       "423004.xlsx                 9060\n",
       "453031.xlsx                 7608\n",
       "473006.xlsx                 7268\n",
       "33020.xlsx                  7259\n",
       "473002.xlsx                 7120\n",
       "393015.xlsx                 6361\n",
       "143010.xlsx                 6192\n",
       "203012.xlsx                 6080\n",
       "323026.xlsx                 5411\n",
       "303049.xlsx                 5353\n",
       "263018.xlsx                 4689\n",
       "153041.xlsx                 4369\n",
       "473023.xlsx                 4337\n",
       "433030.xlsx                 4030\n",
       "173060.xlsx                 3909\n",
       "213007.xlsx                 3476\n",
       "353024.xlsx                 3413\n",
       "403001.xlsx                 3243\n",
       "443032.xlsx                 3110\n",
       "333060.xlsx                 3067\n",
       "343051.xlsx                 2941\n",
       "413056.xlsx                 2759\n",
       "133039.xlsx                 2575\n",
       "4730.xlsx                   2294\n",
       "463059.xlsx                 2070\n",
       "63035.xlsx                  1727\n",
       "363052.xlsx                 1656\n",
       "313050.xlsx                 1655\n",
       "473030.xlsx                 1549\n",
       "DCRT                        1434\n",
       "383064.xlsx                 1330\n",
       "313062.xlsx                 1170\n",
       "73033.xlsx                   942\n",
       "43036.xlsx                   932\n",
       "243046.xlsx                  849\n",
       "103037.xlsx                  777\n",
       "233045.xlsx                  509\n",
       "473.xlsx                     218\n",
       "Kapsabet_High_Court_SEP       65\n",
       "Name: count, dtype: int64"
      ]
     },
     "execution_count": 28,
     "metadata": {},
     "output_type": "execute_result"
    }
   ],
   "source": [
    "processed_df.groupby('court')['court'].value_counts().sort_values(ascending=False)"
   ]
  }
 ],
 "metadata": {
  "kernelspec": {
   "display_name": ".venv",
   "language": "python",
   "name": "python3"
  },
  "language_info": {
   "codemirror_mode": {
    "name": "ipython",
    "version": 3
   },
   "file_extension": ".py",
   "mimetype": "text/x-python",
   "name": "python",
   "nbconvert_exporter": "python",
   "pygments_lexer": "ipython3",
   "version": "3.12.7"
  }
 },
 "nbformat": 4,
 "nbformat_minor": 2
}
