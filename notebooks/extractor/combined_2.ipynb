{
 "cells": [
  {
   "cell_type": "code",
   "execution_count": 28,
   "metadata": {},
   "outputs": [],
   "source": [
    "import pandas as pd\n",
    "import os\n",
    "import argparse\n",
    "import logging\n",
    "from typing import List, Optional, Dict\n",
    "from multiprocessing import Pool\n",
    "\n",
    "# Set up logging\n",
    "logging.basicConfig(level=logging.INFO, format='%(asctime)s - %(levelname)s - %(message)s')\n",
    "logger = logging.getLogger(__name__)"
   ]
  },
  {
   "cell_type": "code",
   "execution_count": 30,
   "metadata": {},
   "outputs": [],
   "source": [
    "# Define common column names\n",
    "column_names = [\n",
    "    \"line\", \"date_dd\", \"date_mon\", \"date_yyyy\", \"caseid_type\", \"caseid_no\", \"filed_dd\",\n",
    "    \"filed_mon\", \"filed_yyyy\", \"original_court\", \"original_code\", \"original_number\",\n",
    "    \"original_year\", \"case_type\", \"judge_1\", \"judge_2\", \"judge_3\", \"judge_4\", \"judge_5\",\n",
    "    \"judge_6\", \"judge_7\", \"comingfor\", \"outcome\", \"reason_adj\", \"next_dd\", \"next_mon\",\n",
    "    \"next_yyyy\", \"male_applicant\", \"female_applicant\", \"organization_applicant\",\n",
    "    \"male_defendant\", \"female_defendant\", \"organization_defendant\", \"legalrep\",\n",
    "    \"applicant_witness\", \"defendant_witness\", \"custody\", \"other_details\"\n",
    "]"
   ]
  },
  {
   "cell_type": "code",
   "execution_count": 29,
   "metadata": {},
   "outputs": [],
   "source": [
    "def read_excel_file(file_path: str) -> Optional[pd.DataFrame]:\n",
    "    \"\"\"Read an Excel file, extract court name, and return a DataFrame with specified columns.\"\"\"\n",
    "    try:\n",
    "        file_name = os.path.basename(file_path)\n",
    "        court_name = file_name.split(\"-\")[0]\n",
    "        df = pd.read_excel(file_path, header=4, names=column_names)\n",
    "        df['court_name'] = court_name\n",
    "        df = df.drop(df.columns[0], axis=1)\n",
    "        df = df[['court_name'] + list(df.columns[:-1])]\n",
    "        logger.info(f\"Successfully processed file: {file_path}\")\n",
    "        return df\n",
    "    except Exception as e:\n",
    "        logger.error(f\"Error reading file {file_path}: {e}\")\n",
    "        return None"
   ]
  },
  {
   "cell_type": "code",
   "execution_count": 31,
   "metadata": {},
   "outputs": [],
   "source": [
    "def process_dataframe(df: pd.DataFrame, name_map: Optional[Dict[str, str]] = None) -> pd.DataFrame:\n",
    "    \"\"\"Process the DataFrame by filling NaN values and optionally mapping court names.\"\"\"\n",
    "    df.fillna(0, inplace=True)  # Fill NaN with 0 and modify dataframe directly\n",
    "    if name_map:\n",
    "        court_series = df['court_name'].str.replace(to_replace=name_map, regex=True)\n",
    "        court_series = court_series.str.split().str.get(0)  # Extract first word from court name\n",
    "        df['court'] = court_series.str.strip()  # Remove extra spaces with strip\n",
    "        df = df[['court'] + [col for col in df.columns if col != 'court_name']]\n",
    "    else:\n",
    "        df.rename(columns={'court_name': 'court'}, inplace=True)\n",
    "        df = df[['court'] + [col for col in df.columns if col != 'court_name']]\n",
    "    return df\n"
   ]
  },
  {
   "cell_type": "code",
   "execution_count": null,
   "metadata": {},
   "outputs": [],
   "source": [
    "def process_folder(folder_path: str) -> pd.DataFrame:\n",
    "    \"\"\"Process all Excel files in a folder, combining them into a single DataFrame.\"\"\"\n",
    "    file_paths = [os.path.join(folder_path, filename) for filename in os.listdir(folder_path)\n",
    "                  if filename.endswith((\".xls\", \".xlsx\"))]\n",
    "\n",
    "    if not file_paths:\n",
    "        raise ValueError(\"No Excel files found in the specified folder.\")\n",
    "\n",
    "    with Pool() as pool:\n",
    "        data_frames = pool.map(read_excel_file, file_paths)\n",
    "\n",
    "    data_frames = [df for df in data_frames if df is not None]\n",
    "\n",
    "    if not data_frames:\n",
    "        raise ValueError(\"Unable to read any Excel files.\")\n",
    "\n",
    "    combined_df = pd.concat(data_frames, ignore_index=True)\n",
    "    return process_dataframe(combined_df)\n"
   ]
  },
  {
   "cell_type": "code",
   "execution_count": null,
   "metadata": {},
   "outputs": [],
   "source": [
    "def process_api_data(folder_path: str) -> pd.DataFrame:\n",
    "    \"\"\"Process API data (assuming similar structure as Excel files).\"\"\"\n",
    "    combined_df = read_excel_files(folder_path, column_names)  # Removed unused function\n",
    "    name_map = {'_High Court Div': '', '_High Court Civil': '', '_High Court Criminal': ''}\n",
    "    court_prefix_to_remove = \"High Court_High Court\"\n",
    "    processed_df = process_dataframe(combined_df, name_map)\n",
    "    processed_df['court'] = processed_df['court'].str.replace(court_prefix_to_remove, \"\", case=False, regex=False)\n",
    "    return processed_df\n",
    "\n"
   ]
  },
  {
   "cell_type": "code",
   "execution_count": null,
   "metadata": {},
   "outputs": [],
   "source": [
    "def main(folder_path: str, is_api: bool = False) -> pd.DataFrame:\n",
    "    \"\"\"Main function to read and process Excel files based on user input.\"\"\"\n",
    "    try:\n",
    "        if is_api:\n",
    "            processed_df = process_api_data(folder_path)\n",
    "            logger.info(\"API data processing completed successfully.\")\n",
    "        else:\n",
    "            processed_df = process_folder(folder_path)\n",
    "            logger.info(\"Non-API data processing completed successfully.\")\n",
    "\n",
    "        return processed_df\n",
    "\n",
    "    except Exception as e:\n",
    "        logger.error(f\"An error occurred during data processing: {e}\")\n",
    "        raise\n",
    "\n",
    "\n",
    "if __name__ == \"__main__\":\n",
    "    parser = argparse.ArgumentParser(description=\"Process Excel files for court data.\")\n",
    "    parser.add_argument(\"folder_path\", help=\"Path to the folder or root directory containing Excel files.\")\n",
    "    parser.add_argument(\"--is_api\", action=\"store_true\", help=\"Specify if processing API data.\")\n",
    "\n",
    "    args = parser.parse_args()\n",
    "\n",
    "    # Run the main processing function\n",
    "    try:\n",
    "        result_df = main(args.folder_path, args.is_api)\n",
    "        print(result_df.head())\n",
    "        print(f\"Total rows: {len(result_df)}\")\n",
    "        logger.info(\"Data processing completed successfully.\")\n",
    "    except Exception as e:\n",
    "        logger.error(f\"Processing failed: {e}\")\n",
    "    else:\n",
    "        logger.info(\"Script finished successfully.\")"
   ]
  }
 ],
 "metadata": {
  "kernelspec": {
   "display_name": ".venv",
   "language": "python",
   "name": "python3"
  },
  "language_info": {
   "codemirror_mode": {
    "name": "ipython",
    "version": 3
   },
   "file_extension": ".py",
   "mimetype": "text/x-python",
   "name": "python",
   "nbconvert_exporter": "python",
   "pygments_lexer": "ipython3",
   "version": "3.12.7"
  }
 },
 "nbformat": 4,
 "nbformat_minor": 2
}
