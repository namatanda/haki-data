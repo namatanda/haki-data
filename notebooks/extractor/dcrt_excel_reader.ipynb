{
 "cells": [
  {
   "cell_type": "code",
   "execution_count": null,
   "metadata": {},
   "outputs": [],
   "source": [
    "import pandas as pd\n",
    "import os\n",
    "from multiprocessing.pool import ApplyResult\n",
    "import logging\n",
    "import multiprocessing\n"
   ]
  },
  {
   "cell_type": "code",
   "execution_count": null,
   "metadata": {},
   "outputs": [],
   "source": [
    "column_name = [\n",
    "    \"line\", \"date_dd\", \"date_mon\", \"date_yyyy\", \"caseid_type\", \"caseid_no\", \"filed_dd\",\n",
    "    \"filed_mon\", \"filed_yyyy\", \"original_court\", \"original_code\", \"original_number\",\n",
    "    \"original_year\", \"case_type\", \"judge_1\", \"judge_2\", \"judge_3\", \"judge_4\", \"judge_5\",\n",
    "    \"judge_6\", \"judge_7\", \"comingfor\", \"outcome\", \"reason_adj\", \"next_dd\", \"next_mon\",\n",
    "    \"next_yyyy\", \"male_applicant\", \"female_applicant\", \"organization_applicant\",\n",
    "    \"male_defendant\", \"female_defendant\", \"organization_defendant\", \"legalrep\",\n",
    "    \"applicant_witness\", \"defendant_witness\", \"custody\", \"other_details\"\n",
    "]"
   ]
  },
  {
   "cell_type": "code",
   "execution_count": null,
   "metadata": {},
   "outputs": [],
   "source": [
    "def generate_file_paths(root_folder, start_year, end_year):\n",
    "    \"\"\"Generates a list of file paths for Excel files within the specified financial year range.\"\"\"\n",
    "    logging.info(f\"Entering generate_file_paths\")\n",
    "    file_paths = []\n",
    "    for root, _, files in os.walk(root_folder):\n",
    "        for file in files:\n",
    "            if file.endswith(\".xlsx\"):\n",
    "                file_path = os.path.join(root, file)\n",
    "                try:\n",
    "                    year = int(os.path.basename(os.path.dirname(root)))\n",
    "                    if start_year <= year <= end_year:\n",
    "                        file_paths.append(file_path)\n",
    "                except ValueError as ve:\n",
    "                    logging.error(f\"Error processing file path {file_path}: {ve}\")\n",
    "                    continue\n",
    "\n",
    "    logging.info(f\"Exiting generate_file_paths successfully\")\n",
    "    return file_paths\n"
   ]
  },
  {
   "cell_type": "code",
   "execution_count": null,
   "metadata": {},
   "outputs": [],
   "source": [
    "def process_file(file_path):\n",
    "    \"\"\"Process a single Excel file, extracting the court code and relevant data.\"\"\"\n",
    "    logging.info(f\"Entering process_file for file {file_path}\")\n",
    "    try: \n",
    "        path_components = os.path.normpath(file_path).split(os.sep) \n",
    "        court_name = path_components[-4]\n",
    "        df = pd.read_excel(file_path, header=4, names=column_name)  \n",
    "        df = df.assign(court_name=court_name)\n",
    "        logging.info(f\"Exiting process_file successfully for file {file_path}\")\n",
    "        return df\n",
    "    except (ValueError, pd.errors.EmptyDataError, pd.errors.ParserError) as e:\n",
    "        logging.error(f\"Error processing file {file_path}: {e}\")\n",
    "        return pd.DataFrame()"
   ]
  },
  {
   "cell_type": "code",
   "execution_count": null,
   "metadata": {},
   "outputs": [],
   "source": [
    "def process_files(file_paths):\n",
    "    \"\"\"Reads and processes Excel files from a list of paths using multiple processes.\"\"\"\n",
    "    with multiprocessing.Pool() as pool:\n",
    "        results = [pool.apply_async(process_file, args=(path,)) for path in file_paths]\n",
    "        processed_dfs = [result.get(timeout=60) for result in results if isinstance(result, ApplyResult)]\n",
    "\n",
    "    combined_df = pd.concat([df for df in processed_dfs if df is not None], ignore_index=True)\n",
    "    logging.info(f\"Exiting process_files successfully\")\n",
    "    return combined_df\n"
   ]
  },
  {
   "cell_type": "code",
   "execution_count": null,
   "metadata": {},
   "outputs": [],
   "source": [
    "def save_to_csv(data_frame, output_file):\n",
    "    \"\"\"Saves the processed data frame to a CSV file.\"\"\"\n",
    "    logging.info(f\"Entering save_to_csv for file {output_file}\")\n",
    "    try:\n",
    "        data_frame.to_csv(output_file, index=False)\n",
    "        logging.info(f\"Processed data saved to {output_file}\")\n",
    "    except Exception as e:\n",
    "        logging.error(f\"Error saving data to CSV file {output_file}: {e}\")\n",
    "    logging.info(f\"Exiting save_to_csv successfully for file {output_file}\")\n"
   ]
  },
  {
   "cell_type": "code",
   "execution_count": null,
   "metadata": {},
   "outputs": [],
   "source": [
    "root_folder = \"/home/arch/devel/data/TEMPLATE 3\"\n",
    "file_paths = generate_file_paths(root_folder, 2023, 2024)\n",
    "raw_df = process_files(file_paths)"
   ]
  },
  {
   "cell_type": "code",
   "execution_count": null,
   "metadata": {},
   "outputs": [],
   "source": [
    "save_to_csv(raw_df, '/home/arch/devel/data/merged.csv')"
   ]
  }
 ],
 "metadata": {
  "kernelspec": {
   "display_name": "utility-RSxmxgGz-py3.11",
   "language": "python",
   "name": "python3"
  },
  "language_info": {
   "codemirror_mode": {
    "name": "ipython",
    "version": 3
   },
   "file_extension": ".py",
   "mimetype": "text/x-python",
   "name": "python",
   "nbconvert_exporter": "python",
   "pygments_lexer": "ipython3",
   "version": "3.12.4"
  }
 },
 "nbformat": 4,
 "nbformat_minor": 2
}
